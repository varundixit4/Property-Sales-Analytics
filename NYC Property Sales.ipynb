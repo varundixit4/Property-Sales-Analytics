{
 "cells": [
  {
   "cell_type": "markdown",
   "id": "ef35a1c5",
   "metadata": {},
   "source": [
    "## NYC Property Sales Data"
   ]
  },
  {
   "cell_type": "markdown",
   "id": "34fd8ed7",
   "metadata": {},
   "source": [
    "### Data Cleaning and Integration"
   ]
  },
  {
   "cell_type": "code",
   "execution_count": 44,
   "id": "d4a5035c",
   "metadata": {},
   "outputs": [],
   "source": [
    "import numpy as np\n",
    "import pandas as pd"
   ]
  },
  {
   "cell_type": "code",
   "execution_count": 45,
   "id": "92452ff9",
   "metadata": {},
   "outputs": [],
   "source": [
    "df_bronx = pd.read_excel(r'.\\OneDrive\\Desktop\\Projects\\rollingsales_bronx.xlsx')\n",
    "df_brooklyn = pd.read_excel(r'.\\OneDrive\\Desktop\\Projects\\rollingsales_brooklyn.xlsx')\n",
    "df_manhattan = pd.read_excel(r'.\\OneDrive\\Desktop\\Projects\\rollingsales_manhattan.xlsx')\n",
    "df_queens = pd.read_excel(r'.\\OneDrive\\Desktop\\Projects\\rollingsales_queens.xlsx')\n",
    "df_statenisland = pd.read_excel(r'.\\OneDrive\\Desktop\\Projects\\rollingsales_statenisland.xlsx')"
   ]
  },
  {
   "cell_type": "code",
   "execution_count": 88,
   "id": "4c5ae2c5",
   "metadata": {},
   "outputs": [],
   "source": [
    "df_list = [df_bronx, df_brooklyn, df_manhattan, df_queens, df_statenisland]"
   ]
  },
  {
   "cell_type": "code",
   "execution_count": 89,
   "id": "9230ce8d",
   "metadata": {
    "scrolled": false
   },
   "outputs": [
    {
     "name": "stdout",
     "output_type": "stream",
     "text": [
      "Index(['BOROUGH', 'NEIGHBORHOOD', 'BUILDING CLASS CATEGORY',\n",
      "       'TAX CLASS AT PRESENT', 'BLOCK', 'LOT', 'EASEMENT',\n",
      "       'BUILDING CLASS AT PRESENT', 'ADDRESS', 'APARTMENT NUMBER', 'ZIP CODE',\n",
      "       'RESIDENTIAL UNITS', 'COMMERCIAL UNITS', 'TOTAL UNITS',\n",
      "       'LAND SQUARE FEET', 'GROSS SQUARE FEET', 'YEAR BUILT',\n",
      "       'TAX CLASS AT TIME OF SALE', 'BUILDING CLASS AT TIME OF SALE',\n",
      "       'SALE PRICE', 'SALE DATE'],\n",
      "      dtype='object')\n",
      "(6330, 21)\n",
      "Index(['BOROUGH', 'NEIGHBORHOOD', 'BUILDING CLASS CATEGORY',\n",
      "       'TAX CLASS AT PRESENT', 'BLOCK', 'LOT', 'EASEMENT',\n",
      "       'BUILDING CLASS AT PRESENT', 'ADDRESS', 'APARTMENT NUMBER', 'ZIP CODE',\n",
      "       'RESIDENTIAL UNITS', 'COMMERCIAL UNITS', 'TOTAL UNITS',\n",
      "       'LAND SQUARE FEET', 'GROSS SQUARE FEET', 'YEAR BUILT',\n",
      "       'TAX CLASS AT TIME OF SALE', 'BUILDING CLASS AT TIME OF SALE',\n",
      "       'SALE PRICE', 'SALE DATE'],\n",
      "      dtype='object')\n",
      "(23002, 21)\n",
      "Index(['BOROUGH', 'NEIGHBORHOOD', 'BUILDING CLASS CATEGORY',\n",
      "       'TAX CLASS AT PRESENT', 'BLOCK', 'LOT', 'EASEMENT',\n",
      "       'BUILDING CLASS AT PRESENT', 'ADDRESS', 'APARTMENT NUMBER', 'ZIP CODE',\n",
      "       'RESIDENTIAL UNITS', 'COMMERCIAL UNITS', 'TOTAL UNITS',\n",
      "       'LAND SQUARE FEET', 'GROSS SQUARE FEET', 'YEAR BUILT',\n",
      "       'TAX CLASS AT TIME OF SALE', 'BUILDING CLASS AT TIME OF SALE',\n",
      "       'SALE PRICE', 'SALE DATE'],\n",
      "      dtype='object')\n",
      "(18933, 21)\n",
      "Index(['BOROUGH', 'NEIGHBORHOOD', 'BUILDING CLASS CATEGORY',\n",
      "       'TAX CLASS AT PRESENT', 'BLOCK', 'LOT', 'EASEMENT',\n",
      "       'BUILDING CLASS AT PRESENT', 'ADDRESS', 'APARTMENT NUMBER', 'ZIP CODE',\n",
      "       'RESIDENTIAL UNITS', 'COMMERCIAL UNITS', 'TOTAL UNITS',\n",
      "       'LAND SQUARE FEET', 'GROSS SQUARE FEET', 'YEAR BUILT',\n",
      "       'TAX CLASS AT TIME OF SALE', 'BUILDING CLASS AT TIME OF SALE',\n",
      "       'SALE PRICE', 'SALE DATE'],\n",
      "      dtype='object')\n",
      "(25455, 21)\n",
      "Index(['BOROUGH', 'NEIGHBORHOOD', 'BUILDING CLASS CATEGORY',\n",
      "       'TAX CLASS AT PRESENT', 'BLOCK', 'LOT', 'EASEMENT',\n",
      "       'BUILDING CLASS AT PRESENT', 'ADDRESS', 'APARTMENT NUMBER', 'ZIP CODE',\n",
      "       'RESIDENTIAL UNITS', 'COMMERCIAL UNITS', 'TOTAL UNITS',\n",
      "       'LAND SQUARE FEET', 'GROSS SQUARE FEET', 'YEAR BUILT',\n",
      "       'TAX CLASS AT TIME OF SALE', 'BUILDING CLASS AT TIME OF SALE',\n",
      "       'SALE PRICE', 'SALE DATE'],\n",
      "      dtype='object')\n",
      "(7421, 21)\n"
     ]
    }
   ],
   "source": [
    "for df in df_list:\n",
    "    print(df.columns)\n",
    "    print(df.shape)"
   ]
  },
  {
   "cell_type": "markdown",
   "id": "a266863e",
   "metadata": {},
   "source": [
    "##### Since all the dataframes have the same number of features, we can merge the datasets into a single dataframe"
   ]
  },
  {
   "cell_type": "code",
   "execution_count": 90,
   "id": "f6d810d8",
   "metadata": {},
   "outputs": [],
   "source": [
    "df = pd.concat(df_list, ignore_index=True)"
   ]
  },
  {
   "cell_type": "code",
   "execution_count": 91,
   "id": "4656bc88",
   "metadata": {},
   "outputs": [
    {
     "data": {
      "text/plain": [
       "(81141, 21)"
      ]
     },
     "execution_count": 91,
     "metadata": {},
     "output_type": "execute_result"
    }
   ],
   "source": [
    "df.shape"
   ]
  },
  {
   "cell_type": "code",
   "execution_count": 92,
   "id": "28264ad0",
   "metadata": {
    "scrolled": false
   },
   "outputs": [
    {
     "data": {
      "text/html": [
       "<div>\n",
       "<style scoped>\n",
       "    .dataframe tbody tr th:only-of-type {\n",
       "        vertical-align: middle;\n",
       "    }\n",
       "\n",
       "    .dataframe tbody tr th {\n",
       "        vertical-align: top;\n",
       "    }\n",
       "\n",
       "    .dataframe thead th {\n",
       "        text-align: right;\n",
       "    }\n",
       "</style>\n",
       "<table border=\"1\" class=\"dataframe\">\n",
       "  <thead>\n",
       "    <tr style=\"text-align: right;\">\n",
       "      <th></th>\n",
       "      <th>BOROUGH</th>\n",
       "      <th>NEIGHBORHOOD</th>\n",
       "      <th>BUILDING CLASS CATEGORY</th>\n",
       "      <th>TAX CLASS AT PRESENT</th>\n",
       "      <th>BLOCK</th>\n",
       "      <th>LOT</th>\n",
       "      <th>EASEMENT</th>\n",
       "      <th>BUILDING CLASS AT PRESENT</th>\n",
       "      <th>ADDRESS</th>\n",
       "      <th>APARTMENT NUMBER</th>\n",
       "      <th>...</th>\n",
       "      <th>RESIDENTIAL UNITS</th>\n",
       "      <th>COMMERCIAL UNITS</th>\n",
       "      <th>TOTAL UNITS</th>\n",
       "      <th>LAND SQUARE FEET</th>\n",
       "      <th>GROSS SQUARE FEET</th>\n",
       "      <th>YEAR BUILT</th>\n",
       "      <th>TAX CLASS AT TIME OF SALE</th>\n",
       "      <th>BUILDING CLASS AT TIME OF SALE</th>\n",
       "      <th>SALE PRICE</th>\n",
       "      <th>SALE DATE</th>\n",
       "    </tr>\n",
       "  </thead>\n",
       "  <tbody>\n",
       "    <tr>\n",
       "      <th>0</th>\n",
       "      <td>2</td>\n",
       "      <td>BATHGATE</td>\n",
       "      <td>01 ONE FAMILY DWELLINGS</td>\n",
       "      <td>1</td>\n",
       "      <td>2905</td>\n",
       "      <td>26</td>\n",
       "      <td>NaN</td>\n",
       "      <td>A9</td>\n",
       "      <td>1667 WASHINGTON AVENUE</td>\n",
       "      <td>NaN</td>\n",
       "      <td>...</td>\n",
       "      <td>1.0</td>\n",
       "      <td>0.0</td>\n",
       "      <td>1.0</td>\n",
       "      <td>4750.0</td>\n",
       "      <td>3167.0</td>\n",
       "      <td>1899.0</td>\n",
       "      <td>1</td>\n",
       "      <td>A9</td>\n",
       "      <td>980000</td>\n",
       "      <td>2022-09-08</td>\n",
       "    </tr>\n",
       "    <tr>\n",
       "      <th>1</th>\n",
       "      <td>2</td>\n",
       "      <td>BATHGATE</td>\n",
       "      <td>01 ONE FAMILY DWELLINGS</td>\n",
       "      <td>1</td>\n",
       "      <td>3028</td>\n",
       "      <td>24</td>\n",
       "      <td>NaN</td>\n",
       "      <td>A1</td>\n",
       "      <td>410 EAST 179TH STREET</td>\n",
       "      <td>NaN</td>\n",
       "      <td>...</td>\n",
       "      <td>1.0</td>\n",
       "      <td>0.0</td>\n",
       "      <td>1.0</td>\n",
       "      <td>1842.0</td>\n",
       "      <td>2048.0</td>\n",
       "      <td>1901.0</td>\n",
       "      <td>1</td>\n",
       "      <td>A1</td>\n",
       "      <td>655000</td>\n",
       "      <td>2022-11-01</td>\n",
       "    </tr>\n",
       "    <tr>\n",
       "      <th>2</th>\n",
       "      <td>2</td>\n",
       "      <td>BATHGATE</td>\n",
       "      <td>01 ONE FAMILY DWELLINGS</td>\n",
       "      <td>1</td>\n",
       "      <td>3030</td>\n",
       "      <td>65</td>\n",
       "      <td>NaN</td>\n",
       "      <td>A1</td>\n",
       "      <td>4455 PARK AVENUE</td>\n",
       "      <td>NaN</td>\n",
       "      <td>...</td>\n",
       "      <td>1.0</td>\n",
       "      <td>0.0</td>\n",
       "      <td>1.0</td>\n",
       "      <td>1622.0</td>\n",
       "      <td>1587.0</td>\n",
       "      <td>1899.0</td>\n",
       "      <td>1</td>\n",
       "      <td>A1</td>\n",
       "      <td>520000</td>\n",
       "      <td>2022-10-26</td>\n",
       "    </tr>\n",
       "    <tr>\n",
       "      <th>3</th>\n",
       "      <td>2</td>\n",
       "      <td>BATHGATE</td>\n",
       "      <td>01 ONE FAMILY DWELLINGS</td>\n",
       "      <td>1</td>\n",
       "      <td>3030</td>\n",
       "      <td>66</td>\n",
       "      <td>NaN</td>\n",
       "      <td>A1</td>\n",
       "      <td>4453 PARK AVENUE</td>\n",
       "      <td>NaN</td>\n",
       "      <td>...</td>\n",
       "      <td>1.0</td>\n",
       "      <td>0.0</td>\n",
       "      <td>1.0</td>\n",
       "      <td>1646.0</td>\n",
       "      <td>1497.0</td>\n",
       "      <td>1899.0</td>\n",
       "      <td>1</td>\n",
       "      <td>A1</td>\n",
       "      <td>215000</td>\n",
       "      <td>2023-04-18</td>\n",
       "    </tr>\n",
       "    <tr>\n",
       "      <th>4</th>\n",
       "      <td>2</td>\n",
       "      <td>BATHGATE</td>\n",
       "      <td>01 ONE FAMILY DWELLINGS</td>\n",
       "      <td>1</td>\n",
       "      <td>3035</td>\n",
       "      <td>52</td>\n",
       "      <td>NaN</td>\n",
       "      <td>A1</td>\n",
       "      <td>461 EAST 178 STREET</td>\n",
       "      <td>NaN</td>\n",
       "      <td>...</td>\n",
       "      <td>1.0</td>\n",
       "      <td>0.0</td>\n",
       "      <td>1.0</td>\n",
       "      <td>1782.0</td>\n",
       "      <td>1548.0</td>\n",
       "      <td>1899.0</td>\n",
       "      <td>1</td>\n",
       "      <td>A1</td>\n",
       "      <td>0</td>\n",
       "      <td>2023-04-14</td>\n",
       "    </tr>\n",
       "  </tbody>\n",
       "</table>\n",
       "<p>5 rows × 21 columns</p>\n",
       "</div>"
      ],
      "text/plain": [
       "   BOROUGH NEIGHBORHOOD  BUILDING CLASS CATEGORY TAX CLASS AT PRESENT  BLOCK  \\\n",
       "0        2     BATHGATE  01 ONE FAMILY DWELLINGS                    1   2905   \n",
       "1        2     BATHGATE  01 ONE FAMILY DWELLINGS                    1   3028   \n",
       "2        2     BATHGATE  01 ONE FAMILY DWELLINGS                    1   3030   \n",
       "3        2     BATHGATE  01 ONE FAMILY DWELLINGS                    1   3030   \n",
       "4        2     BATHGATE  01 ONE FAMILY DWELLINGS                    1   3035   \n",
       "\n",
       "   LOT  EASEMENT BUILDING CLASS AT PRESENT                 ADDRESS  \\\n",
       "0   26       NaN                        A9  1667 WASHINGTON AVENUE   \n",
       "1   24       NaN                        A1   410 EAST 179TH STREET   \n",
       "2   65       NaN                        A1        4455 PARK AVENUE   \n",
       "3   66       NaN                        A1        4453 PARK AVENUE   \n",
       "4   52       NaN                        A1     461 EAST 178 STREET   \n",
       "\n",
       "  APARTMENT NUMBER  ...  RESIDENTIAL UNITS  COMMERCIAL UNITS  TOTAL UNITS  \\\n",
       "0              NaN  ...                1.0               0.0          1.0   \n",
       "1              NaN  ...                1.0               0.0          1.0   \n",
       "2              NaN  ...                1.0               0.0          1.0   \n",
       "3              NaN  ...                1.0               0.0          1.0   \n",
       "4              NaN  ...                1.0               0.0          1.0   \n",
       "\n",
       "   LAND SQUARE FEET  GROSS SQUARE FEET  YEAR BUILT  TAX CLASS AT TIME OF SALE  \\\n",
       "0            4750.0             3167.0      1899.0                          1   \n",
       "1            1842.0             2048.0      1901.0                          1   \n",
       "2            1622.0             1587.0      1899.0                          1   \n",
       "3            1646.0             1497.0      1899.0                          1   \n",
       "4            1782.0             1548.0      1899.0                          1   \n",
       "\n",
       "   BUILDING CLASS AT TIME OF SALE SALE PRICE  SALE DATE  \n",
       "0                              A9     980000 2022-09-08  \n",
       "1                              A1     655000 2022-11-01  \n",
       "2                              A1     520000 2022-10-26  \n",
       "3                              A1     215000 2023-04-18  \n",
       "4                              A1          0 2023-04-14  \n",
       "\n",
       "[5 rows x 21 columns]"
      ]
     },
     "execution_count": 92,
     "metadata": {},
     "output_type": "execute_result"
    }
   ],
   "source": [
    "df.head()"
   ]
  },
  {
   "cell_type": "markdown",
   "id": "e29bddb5",
   "metadata": {},
   "source": [
    "##### Sale Price feature has a lot of rows with 0, since it is a dependent variable, we must drop those rows"
   ]
  },
  {
   "cell_type": "code",
   "execution_count": 93,
   "id": "962bccef",
   "metadata": {},
   "outputs": [
    {
     "name": "stdout",
     "output_type": "stream",
     "text": [
      "23901\n"
     ]
    }
   ],
   "source": [
    "count = 0\n",
    "for price in df['SALE PRICE']:\n",
    "    if price==0:\n",
    "        count = count + 1\n",
    "print(count)"
   ]
  },
  {
   "cell_type": "code",
   "execution_count": 94,
   "id": "b3c3b6a6",
   "metadata": {},
   "outputs": [],
   "source": [
    "df = df[df['SALE PRICE']>0]"
   ]
  },
  {
   "cell_type": "code",
   "execution_count": 95,
   "id": "05520e49",
   "metadata": {},
   "outputs": [
    {
     "name": "stdout",
     "output_type": "stream",
     "text": [
      "<class 'pandas.core.series.Series'>\n",
      "Int64Index: 57240 entries, 0 to 81140\n",
      "Series name: SALE PRICE\n",
      "Non-Null Count  Dtype\n",
      "--------------  -----\n",
      "57240 non-null  int64\n",
      "dtypes: int64(1)\n",
      "memory usage: 894.4 KB\n"
     ]
    }
   ],
   "source": [
    "df['SALE PRICE'].info()"
   ]
  },
  {
   "cell_type": "markdown",
   "id": "909ae20a",
   "metadata": {},
   "source": [
    "##### Handling null values"
   ]
  },
  {
   "cell_type": "code",
   "execution_count": 96,
   "id": "5d9716ce",
   "metadata": {},
   "outputs": [
    {
     "name": "stdout",
     "output_type": "stream",
     "text": [
      "<class 'pandas.core.frame.DataFrame'>\n",
      "Int64Index: 57240 entries, 0 to 81140\n",
      "Data columns (total 21 columns):\n",
      " #   Column                          Non-Null Count  Dtype         \n",
      "---  ------                          --------------  -----         \n",
      " 0   BOROUGH                         57240 non-null  int64         \n",
      " 1   NEIGHBORHOOD                    57240 non-null  object        \n",
      " 2   BUILDING CLASS CATEGORY         57240 non-null  object        \n",
      " 3   TAX CLASS AT PRESENT            57239 non-null  object        \n",
      " 4   BLOCK                           57240 non-null  int64         \n",
      " 5   LOT                             57240 non-null  int64         \n",
      " 6   EASEMENT                        0 non-null      float64       \n",
      " 7   BUILDING CLASS AT PRESENT       57239 non-null  object        \n",
      " 8   ADDRESS                         57240 non-null  object        \n",
      " 9   APARTMENT NUMBER                15758 non-null  object        \n",
      " 10  ZIP CODE                        57234 non-null  float64       \n",
      " 11  RESIDENTIAL UNITS               39784 non-null  float64       \n",
      " 12  COMMERCIAL UNITS                28161 non-null  float64       \n",
      " 13  TOTAL UNITS                     41850 non-null  float64       \n",
      " 14  LAND SQUARE FEET                26095 non-null  float64       \n",
      " 15  GROSS SQUARE FEET               26095 non-null  float64       \n",
      " 16  YEAR BUILT                      53397 non-null  float64       \n",
      " 17  TAX CLASS AT TIME OF SALE       57240 non-null  int64         \n",
      " 18  BUILDING CLASS AT TIME OF SALE  57240 non-null  object        \n",
      " 19  SALE PRICE                      57240 non-null  int64         \n",
      " 20  SALE DATE                       57240 non-null  datetime64[ns]\n",
      "dtypes: datetime64[ns](1), float64(8), int64(5), object(7)\n",
      "memory usage: 9.6+ MB\n"
     ]
    }
   ],
   "source": [
    "df.info()"
   ]
  },
  {
   "cell_type": "code",
   "execution_count": 97,
   "id": "8aed09f6",
   "metadata": {},
   "outputs": [
    {
     "data": {
      "text/plain": [
       "BOROUGH                               0\n",
       "NEIGHBORHOOD                          0\n",
       "BUILDING CLASS CATEGORY               0\n",
       "TAX CLASS AT PRESENT                  1\n",
       "BLOCK                                 0\n",
       "LOT                                   0\n",
       "EASEMENT                          57240\n",
       "BUILDING CLASS AT PRESENT             1\n",
       "ADDRESS                               0\n",
       "APARTMENT NUMBER                  41482\n",
       "ZIP CODE                              6\n",
       "RESIDENTIAL UNITS                 17456\n",
       "COMMERCIAL UNITS                  29079\n",
       "TOTAL UNITS                       15390\n",
       "LAND SQUARE FEET                  31145\n",
       "GROSS SQUARE FEET                 31145\n",
       "YEAR BUILT                         3843\n",
       "TAX CLASS AT TIME OF SALE             0\n",
       "BUILDING CLASS AT TIME OF SALE        0\n",
       "SALE PRICE                            0\n",
       "SALE DATE                             0\n",
       "dtype: int64"
      ]
     },
     "execution_count": 97,
     "metadata": {},
     "output_type": "execute_result"
    }
   ],
   "source": [
    "df.isnull().sum()"
   ]
  },
  {
   "cell_type": "markdown",
   "id": "01372075",
   "metadata": {},
   "source": [
    "##### Filling values for columns with missing values"
   ]
  },
  {
   "cell_type": "code",
   "execution_count": 98,
   "id": "a8dca1ad",
   "metadata": {},
   "outputs": [],
   "source": [
    "miss_null = ['TAX CLASS AT PRESENT', 'BUILDING CLASS AT PRESENT', 'ZIP CODE', 'YEAR BUILT', 'RESIDENTIAL UNITS', 'COMMERCIAL UNITS', 'TOTAL UNITS', 'LAND SQUARE FEET', 'GROSS SQUARE FEET']"
   ]
  },
  {
   "cell_type": "code",
   "execution_count": 99,
   "id": "56da5b47",
   "metadata": {},
   "outputs": [],
   "source": [
    "df[miss_null] = df[miss_null].fillna('bfill')"
   ]
  },
  {
   "cell_type": "code",
   "execution_count": 100,
   "id": "f0881ad2",
   "metadata": {},
   "outputs": [
    {
     "data": {
      "text/plain": [
       "BOROUGH                               0\n",
       "NEIGHBORHOOD                          0\n",
       "BUILDING CLASS CATEGORY               0\n",
       "TAX CLASS AT PRESENT                  0\n",
       "BLOCK                                 0\n",
       "LOT                                   0\n",
       "EASEMENT                          57240\n",
       "BUILDING CLASS AT PRESENT             0\n",
       "ADDRESS                               0\n",
       "APARTMENT NUMBER                  41482\n",
       "ZIP CODE                              0\n",
       "RESIDENTIAL UNITS                     0\n",
       "COMMERCIAL UNITS                      0\n",
       "TOTAL UNITS                           0\n",
       "LAND SQUARE FEET                      0\n",
       "GROSS SQUARE FEET                     0\n",
       "YEAR BUILT                            0\n",
       "TAX CLASS AT TIME OF SALE             0\n",
       "BUILDING CLASS AT TIME OF SALE        0\n",
       "SALE PRICE                            0\n",
       "SALE DATE                             0\n",
       "dtype: int64"
      ]
     },
     "execution_count": 100,
     "metadata": {},
     "output_type": "execute_result"
    }
   ],
   "source": [
    "df.isnull().sum()"
   ]
  },
  {
   "cell_type": "markdown",
   "id": "bfc7712d",
   "metadata": {},
   "source": [
    "##### Dropping entire columns with high number of nulls"
   ]
  },
  {
   "cell_type": "code",
   "execution_count": 101,
   "id": "0386ec0e",
   "metadata": {},
   "outputs": [],
   "source": [
    "high_null = ['EASEMENT', 'APARTMENT NUMBER']"
   ]
  },
  {
   "cell_type": "code",
   "execution_count": 102,
   "id": "0d3655c0",
   "metadata": {},
   "outputs": [],
   "source": [
    "df = df.drop(high_null, axis=1)"
   ]
  },
  {
   "cell_type": "code",
   "execution_count": 103,
   "id": "7bd8be56",
   "metadata": {},
   "outputs": [
    {
     "data": {
      "text/plain": [
       "BOROUGH                           0\n",
       "NEIGHBORHOOD                      0\n",
       "BUILDING CLASS CATEGORY           0\n",
       "TAX CLASS AT PRESENT              0\n",
       "BLOCK                             0\n",
       "LOT                               0\n",
       "BUILDING CLASS AT PRESENT         0\n",
       "ADDRESS                           0\n",
       "ZIP CODE                          0\n",
       "RESIDENTIAL UNITS                 0\n",
       "COMMERCIAL UNITS                  0\n",
       "TOTAL UNITS                       0\n",
       "LAND SQUARE FEET                  0\n",
       "GROSS SQUARE FEET                 0\n",
       "YEAR BUILT                        0\n",
       "TAX CLASS AT TIME OF SALE         0\n",
       "BUILDING CLASS AT TIME OF SALE    0\n",
       "SALE PRICE                        0\n",
       "SALE DATE                         0\n",
       "dtype: int64"
      ]
     },
     "execution_count": 103,
     "metadata": {},
     "output_type": "execute_result"
    }
   ],
   "source": [
    "df.isnull().sum()"
   ]
  },
  {
   "cell_type": "code",
   "execution_count": 105,
   "id": "17730488",
   "metadata": {},
   "outputs": [],
   "source": [
    "df.to_csv('NYC_Property_Sales.csv', index=False)"
   ]
  },
  {
   "cell_type": "code",
   "execution_count": null,
   "id": "cda2a2da",
   "metadata": {},
   "outputs": [],
   "source": []
  }
 ],
 "metadata": {
  "kernelspec": {
   "display_name": "Python 3 (ipykernel)",
   "language": "python",
   "name": "python3"
  },
  "language_info": {
   "codemirror_mode": {
    "name": "ipython",
    "version": 3
   },
   "file_extension": ".py",
   "mimetype": "text/x-python",
   "name": "python",
   "nbconvert_exporter": "python",
   "pygments_lexer": "ipython3",
   "version": "3.10.9"
  }
 },
 "nbformat": 4,
 "nbformat_minor": 5
}
